{
 "cells": [
  {
   "cell_type": "markdown",
   "metadata": {},
   "source": [
    "# DemoRepo Notebook\n",
    "\n",
    "This notebook uses the python modules defined in this repo.\n",
    "It is meant to demonstrate how basic testing of the notebook\n",
    "can be done to ensure that all cells are runnable.\n",
    "\n",
    "This notebook will fail in the cell marked *Failing cell*."
   ]
  },
  {
   "cell_type": "code",
   "execution_count": 2,
   "metadata": {},
   "outputs": [],
   "source": [
    "# Import the two modules.\n",
    "import sys\n",
    "\n",
    "sys.path.append(\"../\")\n",
    "\n",
    "from demo_repo import counter\n",
    "from demo_repo import service"
   ]
  },
  {
   "cell_type": "code",
   "execution_count": null,
   "metadata": {},
   "outputs": [],
   "source": [
    "# Check the counter.\n",
    "my_counter = counter.Counter()\n",
    "\n",
    "for _i in range(12):\n",
    "    my_counter.increment()\n",
    "    \n",
    "print(my_counter.get_count())"
   ]
  },
  {
   "cell_type": "code",
   "execution_count": null,
   "metadata": {},
   "outputs": [],
   "source": [
    "# Check the service.\n",
    "my_service = service.Service()\n",
    "\n",
    "for i in range(5):\n",
    "    my_service.service1()\n",
    "    \n",
    "for i in range(7):\n",
    "    my_service.service2()\n",
    "    \n",
    "print(my_service.num_calls())"
   ]
  },
  {
   "cell_type": "markdown",
   "metadata": {},
   "source": [
    "**Should reach this final cell!**"
   ]
  }
 ],
 "metadata": {
  "julynter-results": {
   "filteredId": [],
   "filteredIndividual": [],
   "filteredRestart": [],
   "filteredType": [],
   "hash": "b3e303ef60c5dbf285ac4e2825b421246ad4bdcf",
   "visible": []
  },
  "kernelspec": {
   "display_name": "Python 3",
   "language": "python",
   "name": "python3"
  },
  "language_info": {
   "codemirror_mode": {
    "name": "ipython",
    "version": 3
   },
   "file_extension": ".py",
   "mimetype": "text/x-python",
   "name": "python",
   "nbconvert_exporter": "python",
   "pygments_lexer": "ipython3",
   "version": "3.9.1"
  }
 },
 "nbformat": 4,
 "nbformat_minor": 4
}
